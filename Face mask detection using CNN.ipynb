{
 "cells": [
  {
   "cell_type": "code",
   "execution_count": 1,
   "id": "50ad0b54",
   "metadata": {},
   "outputs": [],
   "source": [
    "import keras \n",
    "from keras.layers import Conv2D,MaxPooling2D,Flatten,Dense\n",
    "from keras.models import Sequential\n",
    "from tensorflow.keras.optimizers import Adam\n",
    "from keras.preprocessing.image import ImageDataGenerator\n",
    "import keras.utils.image_utils\n",
    "import tensorflow as tf"
   ]
  },
  {
   "cell_type": "code",
   "execution_count": 2,
   "id": "1799e028",
   "metadata": {},
   "outputs": [],
   "source": [
    "model = Sequential()\n",
    "model.add(Conv2D(32,(3,3),activation = 'relu', input_shape=(150,150,3)))\n",
    "model.add(MaxPooling2D())\n",
    "model.add(Conv2D(32,(3,3),activation = 'relu'))\n",
    "model.add(MaxPooling2D())\n",
    "model.add(Conv2D(32,(3,3),activation = 'relu'))\n",
    "model.add(MaxPooling2D())\n",
    "model.add(Flatten())\n",
    "model.add(Dense(100,activation='relu'))\n",
    "model.add(Dense(1,activation ='sigmoid'))"
   ]
  },
  {
   "cell_type": "code",
   "execution_count": 3,
   "id": "886b521d",
   "metadata": {},
   "outputs": [],
   "source": [
    "model.compile(optimizer='adam',loss='binary_crossentropy',metrics =['accuracy'])"
   ]
  },
  {
   "cell_type": "code",
   "execution_count": 5,
   "id": "e1dbf29c",
   "metadata": {},
   "outputs": [],
   "source": [
    "train_datagen = ImageDataGenerator(\n",
    "    rescale = 1./255,\n",
    "    shear_range = 0.2,\n",
    "    zoom_range = 0.2,\n",
    "    horizontal_flip = True\n",
    ")"
   ]
  },
  {
   "cell_type": "code",
   "execution_count": 6,
   "id": "028f0e93",
   "metadata": {},
   "outputs": [],
   "source": [
    "test_datagen = ImageDataGenerator(rescale = 1./255 )"
   ]
  },
  {
   "cell_type": "code",
   "execution_count": 7,
   "id": "aec24a9b",
   "metadata": {},
   "outputs": [
    {
     "name": "stdout",
     "output_type": "stream",
     "text": [
      "Found 4791 images belonging to 2 classes.\n"
     ]
    }
   ],
   "source": [
    "training_set = train_datagen.flow_from_directory(\n",
    "    r'C:\\Users\\AA\\Documents\\Dataset\\train',\n",
    "    target_size = (150,150),\n",
    "    batch_size=16,\n",
    "    class_mode = 'binary'\n",
    ")"
   ]
  },
  {
   "cell_type": "code",
   "execution_count": 8,
   "id": "9e7786f1",
   "metadata": {},
   "outputs": [
    {
     "name": "stdout",
     "output_type": "stream",
     "text": [
      "Found 1197 images belonging to 2 classes.\n"
     ]
    }
   ],
   "source": [
    "test_set = test_datagen.flow_from_directory(\n",
    "    r'C:\\Users\\AA\\Documents\\Dataset\\test',\n",
    "    target_size = (150,150),\n",
    "    batch_size=16,\n",
    "    class_mode = 'binary'\n",
    ")"
   ]
  },
  {
   "cell_type": "code",
   "execution_count": 9,
   "id": "68edc99f",
   "metadata": {},
   "outputs": [
    {
     "name": "stderr",
     "output_type": "stream",
     "text": [
      "C:\\Users\\AA\\AppData\\Local\\Temp\\ipykernel_16072\\1063576067.py:1: UserWarning: `Model.fit_generator` is deprecated and will be removed in a future version. Please use `Model.fit`, which supports generators.\n",
      "  history = model.fit_generator(\n"
     ]
    },
    {
     "name": "stdout",
     "output_type": "stream",
     "text": [
      "Epoch 1/20\n",
      "300/300 [==============================] - 142s 467ms/step - loss: 0.2065 - accuracy: 0.9132 - val_loss: 0.1266 - val_accuracy: 0.9457\n",
      "Epoch 2/20\n",
      "300/300 [==============================] - 134s 447ms/step - loss: 0.1120 - accuracy: 0.9616 - val_loss: 0.1639 - val_accuracy: 0.9365\n",
      "Epoch 3/20\n",
      "300/300 [==============================] - 131s 436ms/step - loss: 0.0779 - accuracy: 0.9739 - val_loss: 0.0779 - val_accuracy: 0.9749\n",
      "Epoch 4/20\n",
      "300/300 [==============================] - 134s 447ms/step - loss: 0.0655 - accuracy: 0.9768 - val_loss: 0.0737 - val_accuracy: 0.9741\n",
      "Epoch 5/20\n",
      "300/300 [==============================] - 136s 455ms/step - loss: 0.0505 - accuracy: 0.9843 - val_loss: 0.0615 - val_accuracy: 0.9749\n",
      "Epoch 6/20\n",
      "300/300 [==============================] - 143s 476ms/step - loss: 0.0533 - accuracy: 0.9818 - val_loss: 0.0690 - val_accuracy: 0.9749\n",
      "Epoch 7/20\n",
      "300/300 [==============================] - 149s 496ms/step - loss: 0.0497 - accuracy: 0.9827 - val_loss: 0.0583 - val_accuracy: 0.9774\n",
      "Epoch 8/20\n",
      "300/300 [==============================] - 131s 437ms/step - loss: 0.0445 - accuracy: 0.9831 - val_loss: 0.0440 - val_accuracy: 0.9833\n",
      "Epoch 9/20\n",
      "300/300 [==============================] - 129s 431ms/step - loss: 0.0379 - accuracy: 0.9879 - val_loss: 0.0786 - val_accuracy: 0.9749\n",
      "Epoch 10/20\n",
      "300/300 [==============================] - 127s 425ms/step - loss: 0.0402 - accuracy: 0.9873 - val_loss: 0.0433 - val_accuracy: 0.9825\n",
      "Epoch 11/20\n",
      "300/300 [==============================] - 125s 418ms/step - loss: 0.0335 - accuracy: 0.9889 - val_loss: 0.0681 - val_accuracy: 0.9825\n",
      "Epoch 12/20\n",
      "300/300 [==============================] - 127s 422ms/step - loss: 0.0360 - accuracy: 0.9881 - val_loss: 0.0913 - val_accuracy: 0.9716\n",
      "Epoch 13/20\n",
      "300/300 [==============================] - 130s 434ms/step - loss: 0.0313 - accuracy: 0.9887 - val_loss: 0.0473 - val_accuracy: 0.9858\n",
      "Epoch 14/20\n",
      "300/300 [==============================] - 125s 416ms/step - loss: 0.0331 - accuracy: 0.9898 - val_loss: 0.0552 - val_accuracy: 0.9816\n",
      "Epoch 15/20\n",
      "300/300 [==============================] - 125s 417ms/step - loss: 0.0277 - accuracy: 0.9902 - val_loss: 0.0747 - val_accuracy: 0.9774\n",
      "Epoch 16/20\n",
      "300/300 [==============================] - 125s 416ms/step - loss: 0.0314 - accuracy: 0.9894 - val_loss: 0.1982 - val_accuracy: 0.9390\n",
      "Epoch 17/20\n",
      "300/300 [==============================] - 126s 419ms/step - loss: 0.0322 - accuracy: 0.9885 - val_loss: 0.0435 - val_accuracy: 0.9858\n",
      "Epoch 18/20\n",
      "300/300 [==============================] - 125s 417ms/step - loss: 0.0303 - accuracy: 0.9904 - val_loss: 0.0435 - val_accuracy: 0.9833\n",
      "Epoch 19/20\n",
      "300/300 [==============================] - 125s 416ms/step - loss: 0.0292 - accuracy: 0.9917 - val_loss: 0.0574 - val_accuracy: 0.9799\n",
      "Epoch 20/20\n",
      "300/300 [==============================] - 128s 428ms/step - loss: 0.0241 - accuracy: 0.9910 - val_loss: 0.0616 - val_accuracy: 0.9758\n"
     ]
    }
   ],
   "source": [
    "history = model.fit_generator(\n",
    "    training_set,\n",
    "    epochs = 20,\n",
    "    validation_data = test_set,\n",
    ")"
   ]
  },
  {
   "cell_type": "code",
   "execution_count": 10,
   "id": "47070c7e",
   "metadata": {},
   "outputs": [],
   "source": [
    "model.save('Mask_Detector.h5',history)"
   ]
  },
  {
   "cell_type": "code",
   "execution_count": 2,
   "id": "781d9701",
   "metadata": {},
   "outputs": [],
   "source": [
    "import numpy as np\n",
    "from keras.models import load_model\n",
    "from keras.preprocessing import image \n",
    "import cv2\n",
    "import keras.utils.image_utils\n",
    "import tensorflow as tf"
   ]
  },
  {
   "cell_type": "code",
   "execution_count": 3,
   "id": "7b77a563",
   "metadata": {},
   "outputs": [],
   "source": [
    "mymodel=load_model('Mask_Detector.h5')"
   ]
  },
  {
   "cell_type": "code",
   "execution_count": 6,
   "id": "0ceffe23",
   "metadata": {},
   "outputs": [
    {
     "data": {
      "text/plain": [
       "(None, 1)"
      ]
     },
     "execution_count": 6,
     "metadata": {},
     "output_type": "execute_result"
    }
   ],
   "source": [
    "mymodel.output_shape"
   ]
  },
  {
   "cell_type": "code",
   "execution_count": 11,
   "id": "279ab300",
   "metadata": {},
   "outputs": [
    {
     "name": "stdout",
     "output_type": "stream",
     "text": [
      "16/16 [==============================] - 4s 270ms/step - loss: 0.0182 - accuracy: 0.9922\n"
     ]
    }
   ],
   "source": [
    "train_loss,train_acc = mymodel.evaluate(training_set,steps=16)"
   ]
  },
  {
   "cell_type": "code",
   "execution_count": 4,
   "id": "c3fe1bbd",
   "metadata": {},
   "outputs": [],
   "source": [
    "face_cascade = cv2.CascadeClassifier('haarcascade_frontalface_default.xml')"
   ]
  },
  {
   "cell_type": "code",
   "execution_count": 5,
   "id": "4b23f30b",
   "metadata": {},
   "outputs": [
    {
     "name": "stdout",
     "output_type": "stream",
     "text": [
      "1/1 [==============================] - 1s 716ms/step\n",
      "1/1 [==============================] - 0s 40ms/step\n",
      "1/1 [==============================] - 0s 31ms/step\n",
      "1/1 [==============================] - 0s 38ms/step\n",
      "1/1 [==============================] - 0s 40ms/step\n",
      "1/1 [==============================] - 0s 32ms/step\n",
      "1/1 [==============================] - 0s 39ms/step\n",
      "1/1 [==============================] - 0s 47ms/step\n",
      "1/1 [==============================] - 0s 39ms/step\n",
      "1/1 [==============================] - 0s 38ms/step\n",
      "1/1 [==============================] - 0s 31ms/step\n",
      "1/1 [==============================] - 0s 38ms/step\n",
      "1/1 [==============================] - 0s 30ms/step\n",
      "1/1 [==============================] - 0s 30ms/step\n",
      "1/1 [==============================] - 0s 38ms/step\n",
      "1/1 [==============================] - 0s 38ms/step\n",
      "1/1 [==============================] - 0s 32ms/step\n",
      "1/1 [==============================] - 0s 48ms/step\n",
      "1/1 [==============================] - 0s 31ms/step\n",
      "1/1 [==============================] - 0s 47ms/step\n",
      "1/1 [==============================] - 0s 32ms/step\n",
      "1/1 [==============================] - 0s 47ms/step\n"
     ]
    }
   ],
   "source": [
    "cap = cv2.VideoCapture(0)\n",
    "cap.set(cv2.CAP_PROP_FRAME_WIDTH, 1280)\n",
    "cap.set(cv2.CAP_PROP_FRAME_HEIGHT, 720)\n",
    "\n",
    "while cap.isOpened():\n",
    "    s, img=cap.read()\n",
    "    face = face_cascade.detectMultiScale(img,scaleFactor=1.1,minNeighbors=4)\n",
    "    \n",
    "    for(x,y,w,h) in face:\n",
    "        face_img = img[y:y+h,x:x+w]\n",
    "        cv2.imwrite('temp.jpg',face_img)\n",
    "        test_img = tf.keras.utils.load_img('temp.jpg',target_size=(150,150,3))\n",
    "        test_img = tf.keras.utils.img_to_array(test_img)\n",
    "        test_img = np.expand_dims(test_img, axis=0)\n",
    "        \n",
    "        pred = mymodel.predict(test_img)[0][0]\n",
    "        \n",
    "        if pred==1:\n",
    "            cv2.rectangle(img,(x,y),(x+w,y+h),(0,0,255),2)\n",
    "            cv2.rectangle(img,(x,y-40),(x+w,y),(0,0,255),-1)\n",
    "            cv2.putText(img,\"No Mask\",(x,y-10), cv2.FONT_HERSHEY_SIMPLEX, 0.8,(255,255,255),2)\n",
    "        else:\n",
    "            cv2.rectangle(img,(x,y),(x+w,y+h),(0,255,0),2)\n",
    "            cv2.rectangle(img,(x,y-40),(x+w,y),(0,255,0),-1)\n",
    "            cv2.putText(img,\"Mask\",(x,y-10), cv2.FONT_HERSHEY_SIMPLEX, 0.8,(255,255,255),2)\n",
    "    cv2.imshow('Image',img)\n",
    "    if cv2.waitKey(1) == ord('q'):\n",
    "        break\n",
    "cap.release()\n",
    "cv2.destroyAllWindows()"
   ]
  },
  {
   "cell_type": "code",
   "execution_count": null,
   "id": "5c85b8e8",
   "metadata": {},
   "outputs": [],
   "source": []
  }
 ],
 "metadata": {
  "kernelspec": {
   "display_name": "Python 3 (ipykernel)",
   "language": "python",
   "name": "python3"
  },
  "language_info": {
   "codemirror_mode": {
    "name": "ipython",
    "version": 3
   },
   "file_extension": ".py",
   "mimetype": "text/x-python",
   "name": "python",
   "nbconvert_exporter": "python",
   "pygments_lexer": "ipython3",
   "version": "3.10.2"
  }
 },
 "nbformat": 4,
 "nbformat_minor": 5
}
